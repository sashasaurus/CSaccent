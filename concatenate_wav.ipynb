{
 "cells": [
  {
   "cell_type": "code",
   "execution_count": 54,
   "metadata": {},
   "outputs": [
    {
     "name": "stdout",
     "output_type": "stream",
     "text": [
      "Populating the interactive namespace from numpy and matplotlib\n",
      "[ 1 -1  1 ...,  1  0  0]\n"
     ]
    },
    {
     "name": "stderr",
     "output_type": "stream",
     "text": [
      "/usr/lib/python3.6/site-packages/IPython/core/magics/pylab.py:160: UserWarning: pylab import has clobbered these variables: ['rate']\n",
      "`%matplotlib` prevents importing * from pylab and numpy\n",
      "  \"\\n`%matplotlib` prevents importing * from pylab and numpy\"\n"
     ]
    }
   ],
   "source": [
    "%pylab inline\n",
    "\n",
    "import os\n",
    "\n",
    "from scipy.io import wavfile\n",
    "\n",
    "input_directory = '/home/sasha/Documents/accentCS/CSAccent_audio/Valerie/Extracted words'\n",
    "filename_silence = '/home/sasha/Documents/accentCS/CSAccent_audio/Valerie/silence.wav' \n",
    "filename_la = '/home/sasha/Documents/accentCS/CSAccent_audio/Valerie/encuentra_la.wav'\n",
    "filename_el = '/home/sasha/Documents/accentCS/CSAccent_audio/Valerie/encuentra_el.wav'\n",
    "\n",
    "output_la_directory = '/home/sasha/Documents/accentCS/CSAccent_audio/Valerie/output/'\n",
    "output_el_directory = '/home/sasha/Documents/accentCS/CSAccent_audio/Valerie/output2/'\n",
    "\n",
    "silence_rate, silence_data = wavfile.read(filename_silence)\n",
    "print(silence_data)\n",
    "# silence_data = np.zeros((5000,))"
   ]
  },
  {
   "cell_type": "code",
   "execution_count": 50,
   "metadata": {
    "collapsed": true
   },
   "outputs": [],
   "source": [
    "def load_input_files():\n",
    "    for filename in os.listdir(input_directory):\n",
    "        basename, extension = os.path.splitext(filename)\n",
    "        if extension != '.wav':\n",
    "            print(f'Skipping {filename}')\n",
    "            continue\n",
    "        rate, data = wavfile.read(os.path.join(input_directory, filename))\n",
    "        yield (filename, rate, data)"
   ]
  },
  {
   "cell_type": "code",
   "execution_count": 52,
   "metadata": {
    "collapsed": true
   },
   "outputs": [],
   "source": [
    "os.makedirs(output_la_directory, exist_ok=True)\n",
    "\n",
    "la_rate, la_data = wavfile.read(filename_la)\n",
    "#combine encuentra_la.wav with silence.wav and everything in input directory\n",
    "for filename, rate, data in load_input_files():\n",
    "    assert la_rate == rate, 'The rates do not match!'\n",
    "    combined_data = np.concatenate((la_data, silence_data, data))\n",
    "    output_filename = os.path.join(output_la_directory, f'la_{filename}')\n",
    "    wavfile.write(output_filename, rate, combined_data)"
   ]
  },
  {
   "cell_type": "code",
   "execution_count": 55,
   "metadata": {
    "collapsed": true
   },
   "outputs": [],
   "source": [
    "os.makedirs(output_el_directory, exist_ok=True)\n",
    "\n",
    "el_rate, el_data = wavfile.read(filename_el)\n",
    "for filename, rate, data in load_input_files():\n",
    "    assert el_rate == rate, 'The rates do not match!'\n",
    "    combined_data = np.concatenate((el_data, silence_data, data))\n",
    "    output_filename = os.path.join(output_el_directory, f'el_{filename}')\n",
    "    wavfile.write(output_filename, rate, combined_data)"
   ]
  },
  {
   "cell_type": "code",
   "execution_count": null,
   "metadata": {
    "collapsed": true
   },
   "outputs": [],
   "source": [
    "#renames noun.wav to noun_v.wav \n",
    "## will need to put this in a loop if going to reuse \n",
    "\n",
    "from pathlib import Path\n",
    "\n",
    "p = Path('/home/sasha/Documents/accentCS/CSAccent_audio/Valerie/output/la_ankle.wav')\n",
    "\n",
    "#create stem and suffix\n",
    "la_ankle = p.stem \n",
    "wav = p.suffix \n",
    "\n",
    "#specify format for new file name  \n",
    "ankle = \"{}_{}\".format(la_ankle, 'V')\n",
    "\n",
    "#rename by combining the new name format and suffix \n",
    "p.rename(Path(p.parent, ankle + wav))\n"
   ]
  },
  {
   "cell_type": "code",
   "execution_count": null,
   "metadata": {
    "collapsed": true
   },
   "outputs": [],
   "source": []
  }
 ],
 "metadata": {
  "kernelspec": {
   "display_name": "Python 3",
   "language": "python",
   "name": "python3"
  },
  "language_info": {
   "codemirror_mode": {
    "name": "ipython",
    "version": 3
   },
   "file_extension": ".py",
   "mimetype": "text/x-python",
   "name": "python",
   "nbconvert_exporter": "python",
   "pygments_lexer": "ipython3",
   "version": "3.6.3"
  }
 },
 "nbformat": 4,
 "nbformat_minor": 2
}
